{
 "cells": [
  {
   "cell_type": "code",
   "execution_count": 4,
   "metadata": {},
   "outputs": [
    {
     "name": "stdout",
     "output_type": "stream",
     "text": [
      "['jenny', 'sarah', 'Mrs Lane', 'Lucky', 'lena']\n"
     ]
    }
   ],
   "source": [
    "people = ['jenny','sarah','Mrs Lane','Lucky','lena']\n",
    "print(people)"
   ]
  },
  {
   "cell_type": "code",
   "execution_count": 5,
   "metadata": {},
   "outputs": [
    {
     "name": "stdout",
     "output_type": "stream",
     "text": [
      "Hi['jenny', 'sarah', 'Mrs Lane', 'Lucky', 'lena'] hope your quarantine is going good!\n"
     ]
    }
   ],
   "source": [
    "print(f\"Hi{people} hope your quarantine is going good!\")"
   ]
  },
  {
   "cell_type": "code",
   "execution_count": 6,
   "metadata": {},
   "outputs": [],
   "source": [
    "people_people = ['jenny','sarah','Mrs Lane','Lucky','lena']"
   ]
  },
  {
   "cell_type": "code",
   "execution_count": 11,
   "metadata": {},
   "outputs": [
    {
     "name": "stdout",
     "output_type": "stream",
     "text": [
      "Hi jenny hope your quarantine is going good!\n",
      "\n",
      "Hi sarah hope your quarantine is going good!\n",
      "\n",
      "Hi Mrs Lane hope your quarantine is going good!\n",
      "\n",
      "Hi Lucky hope your quarantine is going good!\n",
      "\n",
      "Hi lena hope your quarantine is going good!\n",
      "\n"
     ]
    }
   ],
   "source": [
    "for i in people_people:\n",
    "    print(f\"Hi {i} hope your quarantine is going good!\\n\")"
   ]
  },
  {
   "cell_type": "code",
   "execution_count": null,
   "metadata": {},
   "outputs": [],
   "source": []
  }
 ],
 "metadata": {
  "kernelspec": {
   "display_name": "Python 3",
   "language": "python",
   "name": "python3"
  },
  "language_info": {
   "codemirror_mode": {
    "name": "ipython",
    "version": 3
   },
   "file_extension": ".py",
   "mimetype": "text/x-python",
   "name": "python",
   "nbconvert_exporter": "python",
   "pygments_lexer": "ipython3",
   "version": "3.7.6"
  }
 },
 "nbformat": 4,
 "nbformat_minor": 4
}
