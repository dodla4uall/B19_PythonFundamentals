{
 "cells": [
  {
   "cell_type": "code",
   "execution_count": 33,
   "metadata": {},
   "outputs": [],
   "source": [
    "class User:\n",
    "    def createname(self,name):\n",
    "          self.name = name  \n",
    "    def displayname(self):\n",
    "          print(f\"{self.name} is now displaying on the screen\")\n",
    "    def greetname(self):\n",
    "          print(f\"welcome back, good to see you all after the weekend {self.name}\")     "
   ]
  },
  {
   "cell_type": "code",
   "execution_count": 34,
   "metadata": {},
   "outputs": [],
   "source": [
    "hunnyInstance = User()"
   ]
  },
  {
   "cell_type": "code",
   "execution_count": 36,
   "metadata": {},
   "outputs": [],
   "source": [
    "hunnyInstance.createname('HUNNYDODLA')"
   ]
  },
  {
   "cell_type": "code",
   "execution_count": 30,
   "metadata": {},
   "outputs": [
    {
     "name": "stdout",
     "output_type": "stream",
     "text": [
      "HUNNYDODLA is now displaying on the screen\n"
     ]
    }
   ],
   "source": [
    "hunnyInstance.displayname()"
   ]
  },
  {
   "cell_type": "code",
   "execution_count": 37,
   "metadata": {},
   "outputs": [
    {
     "name": "stdout",
     "output_type": "stream",
     "text": [
      "welcome back, good to see you all after the weekend HUNNYDODLA\n"
     ]
    }
   ],
   "source": [
    "hunnyInstance.greetname()"
   ]
  },
  {
   "cell_type": "code",
   "execution_count": 38,
   "metadata": {},
   "outputs": [],
   "source": [
    "oliviaInstance = User()"
   ]
  },
  {
   "cell_type": "code",
   "execution_count": 39,
   "metadata": {},
   "outputs": [],
   "source": [
    "oliviaInstance.createname('OLIVIA')"
   ]
  },
  {
   "cell_type": "code",
   "execution_count": 40,
   "metadata": {},
   "outputs": [
    {
     "name": "stdout",
     "output_type": "stream",
     "text": [
      "OLIVIA is now displaying on the screen\n"
     ]
    }
   ],
   "source": [
    "oliviaInstance.displayname()"
   ]
  },
  {
   "cell_type": "code",
   "execution_count": 41,
   "metadata": {},
   "outputs": [
    {
     "name": "stdout",
     "output_type": "stream",
     "text": [
      "OLIVIA is now displaying on the screen\n"
     ]
    }
   ],
   "source": [
    "oliviaInstance.displayname()"
   ]
  },
  {
   "cell_type": "code",
   "execution_count": 42,
   "metadata": {},
   "outputs": [
    {
     "name": "stdout",
     "output_type": "stream",
     "text": [
      "HUNNYDODLA is now displaying on the screen\n"
     ]
    }
   ],
   "source": [
    "hunnyInstance.displayname()"
   ]
  },
  {
   "cell_type": "code",
   "execution_count": null,
   "metadata": {},
   "outputs": [],
   "source": []
  },
  {
   "cell_type": "code",
   "execution_count": null,
   "metadata": {},
   "outputs": [],
   "source": [
    "Day -15 work"
   ]
  },
  {
   "cell_type": "code",
   "execution_count": null,
   "metadata": {},
   "outputs": [],
   "source": []
  },
  {
   "cell_type": "code",
   "execution_count": 46,
   "metadata": {},
   "outputs": [],
   "source": [
    "class Dog:\n",
    "    \"\"\"A simple attempt to model a dog\"\"\"\n",
    "    \n",
    "    def __init__(self,name,age):\n",
    "        \"\"\"initialize name and age attributes\"\"\"\n",
    "        self.name = name\n",
    "        self.age = age\n",
    "        print('it got executed')\n",
    "    \n",
    "    def sit(self):\n",
    "        \"\"\"simulate a dog sitting in response to a command\"\"\" \n",
    "        print(F\"{self.name} is now sitting\")\n",
    "    def roll_over(self):\n",
    "        \"\"\"simulate rolling over in response to a command\"\"\"\n",
    "        print(f\"{self.name} is now rolling over!\")\n",
    "    def sleep(self):\n",
    "        \"\"\"Simulate a sleeping response to a command\"\"\"\n",
    "        print(f\"{self.name} is now sleeping\")   "
   ]
  },
  {
   "cell_type": "code",
   "execution_count": 47,
   "metadata": {},
   "outputs": [
    {
     "name": "stdout",
     "output_type": "stream",
     "text": [
      "it got executed\n"
     ]
    }
   ],
   "source": [
    "test = Dog('rex',3)"
   ]
  },
  {
   "cell_type": "code",
   "execution_count": 49,
   "metadata": {},
   "outputs": [
    {
     "name": "stdout",
     "output_type": "stream",
     "text": [
      "rex is now sitting\n"
     ]
    }
   ],
   "source": [
    "test.sit()"
   ]
  },
  {
   "cell_type": "code",
   "execution_count": 50,
   "metadata": {},
   "outputs": [
    {
     "name": "stdout",
     "output_type": "stream",
     "text": [
      "rex is now rolling over!\n"
     ]
    }
   ],
   "source": [
    "test.roll_over()"
   ]
  },
  {
   "cell_type": "code",
   "execution_count": 51,
   "metadata": {},
   "outputs": [
    {
     "name": "stdout",
     "output_type": "stream",
     "text": [
      "rex is now sleeping\n"
     ]
    }
   ],
   "source": [
    "test.sleep()"
   ]
  },
  {
   "cell_type": "code",
   "execution_count": 52,
   "metadata": {},
   "outputs": [
    {
     "name": "stdout",
     "output_type": "stream",
     "text": [
      "it got executed\n"
     ]
    }
   ],
   "source": [
    "doggy = Dog('bounty',4)"
   ]
  },
  {
   "cell_type": "code",
   "execution_count": 54,
   "metadata": {},
   "outputs": [
    {
     "name": "stdout",
     "output_type": "stream",
     "text": [
      "bounty is now sitting\n"
     ]
    }
   ],
   "source": [
    "doggy.sit()"
   ]
  },
  {
   "cell_type": "code",
   "execution_count": 55,
   "metadata": {},
   "outputs": [
    {
     "name": "stdout",
     "output_type": "stream",
     "text": [
      "bounty is now rolling over!\n"
     ]
    }
   ],
   "source": [
    "doggy.roll_over()"
   ]
  },
  {
   "cell_type": "code",
   "execution_count": 56,
   "metadata": {},
   "outputs": [
    {
     "name": "stdout",
     "output_type": "stream",
     "text": [
      "bounty is now sleeping\n"
     ]
    }
   ],
   "source": [
    "doggy.sleep()"
   ]
  },
  {
   "cell_type": "code",
   "execution_count": null,
   "metadata": {},
   "outputs": [],
   "source": []
  },
  {
   "cell_type": "code",
   "execution_count": null,
   "metadata": {},
   "outputs": [],
   "source": []
  }
 ],
 "metadata": {
  "kernelspec": {
   "display_name": "Python 3",
   "language": "python",
   "name": "python3"
  },
  "language_info": {
   "codemirror_mode": {
    "name": "ipython",
    "version": 3
   },
   "file_extension": ".py",
   "mimetype": "text/x-python",
   "name": "python",
   "nbconvert_exporter": "python",
   "pygments_lexer": "ipython3",
   "version": "3.7.6"
  }
 },
 "nbformat": 4,
 "nbformat_minor": 4
}
