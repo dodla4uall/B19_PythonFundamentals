{
 "cells": [
  {
   "cell_type": "code",
   "execution_count": 1,
   "metadata": {},
   "outputs": [
    {
     "name": "stdout",
     "output_type": "stream",
     "text": [
      "['Hunny', 'Yashu', 'Sabitha', 'Kumar', 'Katie', 'Saira']\n"
     ]
    }
   ],
   "source": [
    "students = ['Hunny','Yashu','Sabitha','Kumar','Katie','Saira']\n",
    "print(students)"
   ]
  },
  {
   "cell_type": "code",
   "execution_count": 3,
   "metadata": {},
   "outputs": [
    {
     "name": "stdout",
     "output_type": "stream",
     "text": [
      "keep up the good work,Hunny\n"
     ]
    }
   ],
   "source": [
    "print(f\"keep up the good work,{students[0]}\")"
   ]
  },
  {
   "cell_type": "code",
   "execution_count": 4,
   "metadata": {},
   "outputs": [
    {
     "name": "stdout",
     "output_type": "stream",
     "text": [
      "keep up the good work,['Hunny', 'Yashu', 'Sabitha', 'Kumar', 'Katie', 'Saira']\n"
     ]
    }
   ],
   "source": [
    "print(f\"keep up the good work,{students}\")"
   ]
  },
  {
   "cell_type": "code",
   "execution_count": 6,
   "metadata": {},
   "outputs": [
    {
     "ename": "IndentationError",
     "evalue": "expected an indented block (<ipython-input-6-e97b467dafd3>, line 2)",
     "output_type": "error",
     "traceback": [
      "\u001b[1;36m  File \u001b[1;32m\"<ipython-input-6-e97b467dafd3>\"\u001b[1;36m, line \u001b[1;32m2\u001b[0m\n\u001b[1;33m    print(f\"keep up the good work,{students}\")\u001b[0m\n\u001b[1;37m        ^\u001b[0m\n\u001b[1;31mIndentationError\u001b[0m\u001b[1;31m:\u001b[0m expected an indented block\n"
     ]
    }
   ],
   "source": [
    "for i in students:\n",
    "print(f\"keep up the good work,{students}\")\n"
   ]
  },
  {
   "cell_type": "code",
   "execution_count": 10,
   "metadata": {},
   "outputs": [
    {
     "name": "stdout",
     "output_type": "stream",
     "text": [
      "keep up the good work, Hunny\n",
      "keep up the good work, Yashu\n",
      "keep up the good work, Sabitha\n",
      "keep up the good work, Kumar\n",
      "keep up the good work, Katie\n",
      "keep up the good work, Saira\n"
     ]
    }
   ],
   "source": [
    "for i in students:\n",
    "    print(f\"keep up the good work, {i}\")\n"
   ]
  },
  {
   "cell_type": "code",
   "execution_count": 11,
   "metadata": {},
   "outputs": [
    {
     "name": "stdout",
     "output_type": "stream",
     "text": [
      "['Katie', 'Olivia', 'Saira']\n"
     ]
    }
   ],
   "source": [
    "for_my_friends = ['Katie','Olivia','Saira']\n",
    "print(for_my_friends)"
   ]
  },
  {
   "cell_type": "code",
   "execution_count": 14,
   "metadata": {},
   "outputs": [
    {
     "name": "stdout",
     "output_type": "stream",
     "text": [
      "youre a good friend, Katie.\n",
      "hope you are well.\n",
      "\n",
      "youre a good friend, Olivia.\n",
      "hope you are well.\n",
      "\n",
      "youre a good friend, Saira.\n",
      "hope you are well.\n",
      "\n"
     ]
    }
   ],
   "source": [
    "for i in for_my_friends:\n",
    "    print(f\"youre a good friend, {i}.\")\n",
    "    print(\"hope you are well.\\n\")"
   ]
  },
  {
   "cell_type": "code",
   "execution_count": null,
   "metadata": {},
   "outputs": [],
   "source": []
  }
 ],
 "metadata": {
  "kernelspec": {
   "display_name": "Python 3",
   "language": "python",
   "name": "python3"
  },
  "language_info": {
   "codemirror_mode": {
    "name": "ipython",
    "version": 3
   },
   "file_extension": ".py",
   "mimetype": "text/x-python",
   "name": "python",
   "nbconvert_exporter": "python",
   "pygments_lexer": "ipython3",
   "version": "3.7.6"
  }
 },
 "nbformat": 4,
 "nbformat_minor": 4
}
